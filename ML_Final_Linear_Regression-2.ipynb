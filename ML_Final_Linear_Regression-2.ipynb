{
 "cells": [
  {
   "cell_type": "code",
   "execution_count": 1,
   "id": "399792ec",
   "metadata": {},
   "outputs": [],
   "source": [
    "#James Gibson\n",
    "#12/03/22\n",
    "#Script is based on https://www.tensorflow.org/tutorials/keras/regression\n",
    "\n",
    "#Error warning about tensorflow\n",
    "\n",
    "#2022-12-03 17:53:16.980823: I tensorflow/core/platform/cpu_feature_guard.cc:193] \n",
    "#This TensorFlow binary is optimized with oneAPI Deep Neural Network Library (oneDNN) to use \n",
    "#the following CPU instructions in performance-critical operations:  SSE4.1 SSE4.2\n",
    "#To enable them in other operations, rebuild TensorFlow with the appropriate compiler flags.\n"
   ]
  },
  {
   "cell_type": "code",
   "execution_count": 2,
   "id": "45a2127e",
   "metadata": {},
   "outputs": [
    {
     "name": "stderr",
     "output_type": "stream",
     "text": [
      "2022-12-22 13:51:20.002530: I tensorflow/core/platform/cpu_feature_guard.cc:193] This TensorFlow binary is optimized with oneAPI Deep Neural Network Library (oneDNN) to use the following CPU instructions in performance-critical operations:  SSE4.1 SSE4.2\n",
      "To enable them in other operations, rebuild TensorFlow with the appropriate compiler flags.\n"
     ]
    }
   ],
   "source": [
    "import tensorflow as tf\n",
    "from tensorflow import keras\n",
    "from tensorflow.keras import layers\n",
    "import pandas as pd\n",
    "import numpy as np\n",
    "import matplotlib.pyplot as plt\n",
    "import os\n",
    "import glob\n",
    "from pathlib import Path\n",
    "import seaborn as sns\n",
    "#import rasterio\n",
    "#import geopandas as gpd\n",
    "#import rioxarray"
   ]
  },
  {
   "cell_type": "code",
   "execution_count": 3,
   "id": "0fd9ade0",
   "metadata": {},
   "outputs": [
    {
     "data": {
      "text/html": [
       "<div>\n",
       "<style scoped>\n",
       "    .dataframe tbody tr th:only-of-type {\n",
       "        vertical-align: middle;\n",
       "    }\n",
       "\n",
       "    .dataframe tbody tr th {\n",
       "        vertical-align: top;\n",
       "    }\n",
       "\n",
       "    .dataframe thead th {\n",
       "        text-align: right;\n",
       "    }\n",
       "</style>\n",
       "<table border=\"1\" class=\"dataframe\">\n",
       "  <thead>\n",
       "    <tr style=\"text-align: right;\">\n",
       "      <th></th>\n",
       "      <th>SITE_LATITUDE</th>\n",
       "      <th>SITE_LONGITUDE</th>\n",
       "      <th>YEAR</th>\n",
       "      <th>PM25</th>\n",
       "      <th>AOD</th>\n",
       "    </tr>\n",
       "  </thead>\n",
       "  <tbody>\n",
       "    <tr>\n",
       "      <th>0</th>\n",
       "      <td>41.170833</td>\n",
       "      <td>-73.194722</td>\n",
       "      <td>2010</td>\n",
       "      <td>8.747368</td>\n",
       "      <td>0.106736</td>\n",
       "    </tr>\n",
       "    <tr>\n",
       "      <th>1</th>\n",
       "      <td>41.399167</td>\n",
       "      <td>-73.443056</td>\n",
       "      <td>2010</td>\n",
       "      <td>9.161345</td>\n",
       "      <td>0.073683</td>\n",
       "    </tr>\n",
       "    <tr>\n",
       "      <th>2</th>\n",
       "      <td>41.784722</td>\n",
       "      <td>-72.631667</td>\n",
       "      <td>2010</td>\n",
       "      <td>7.658380</td>\n",
       "      <td>0.115273</td>\n",
       "    </tr>\n",
       "    <tr>\n",
       "      <th>3</th>\n",
       "      <td>41.821342</td>\n",
       "      <td>-73.297257</td>\n",
       "      <td>2010</td>\n",
       "      <td>5.436066</td>\n",
       "      <td>0.104100</td>\n",
       "    </tr>\n",
       "    <tr>\n",
       "      <th>4</th>\n",
       "      <td>41.301400</td>\n",
       "      <td>-72.902871</td>\n",
       "      <td>2010</td>\n",
       "      <td>8.927290</td>\n",
       "      <td>0.081273</td>\n",
       "    </tr>\n",
       "    <tr>\n",
       "      <th>...</th>\n",
       "      <td>...</td>\n",
       "      <td>...</td>\n",
       "      <td>...</td>\n",
       "      <td>...</td>\n",
       "      <td>...</td>\n",
       "    </tr>\n",
       "    <tr>\n",
       "      <th>1095</th>\n",
       "      <td>41.874668</td>\n",
       "      <td>-71.379971</td>\n",
       "      <td>2020</td>\n",
       "      <td>8.146875</td>\n",
       "      <td>0.077750</td>\n",
       "    </tr>\n",
       "    <tr>\n",
       "      <th>1096</th>\n",
       "      <td>41.841039</td>\n",
       "      <td>-71.360970</td>\n",
       "      <td>2020</td>\n",
       "      <td>6.500000</td>\n",
       "      <td>0.077750</td>\n",
       "    </tr>\n",
       "    <tr>\n",
       "      <th>1097</th>\n",
       "      <td>42.887590</td>\n",
       "      <td>-73.249840</td>\n",
       "      <td>2020</td>\n",
       "      <td>5.616667</td>\n",
       "      <td>0.112200</td>\n",
       "    </tr>\n",
       "    <tr>\n",
       "      <th>1098</th>\n",
       "      <td>44.528390</td>\n",
       "      <td>-72.868840</td>\n",
       "      <td>2020</td>\n",
       "      <td>3.840375</td>\n",
       "      <td>0.100989</td>\n",
       "    </tr>\n",
       "    <tr>\n",
       "      <th>1099</th>\n",
       "      <td>43.608056</td>\n",
       "      <td>-72.982778</td>\n",
       "      <td>2020</td>\n",
       "      <td>7.395844</td>\n",
       "      <td>0.099042</td>\n",
       "    </tr>\n",
       "  </tbody>\n",
       "</table>\n",
       "<p>1100 rows × 5 columns</p>\n",
       "</div>"
      ],
      "text/plain": [
       "      SITE_LATITUDE  SITE_LONGITUDE  YEAR      PM25       AOD\n",
       "0         41.170833      -73.194722  2010  8.747368  0.106736\n",
       "1         41.399167      -73.443056  2010  9.161345  0.073683\n",
       "2         41.784722      -72.631667  2010  7.658380  0.115273\n",
       "3         41.821342      -73.297257  2010  5.436066  0.104100\n",
       "4         41.301400      -72.902871  2010  8.927290  0.081273\n",
       "...             ...             ...   ...       ...       ...\n",
       "1095      41.874668      -71.379971  2020  8.146875  0.077750\n",
       "1096      41.841039      -71.360970  2020  6.500000  0.077750\n",
       "1097      42.887590      -73.249840  2020  5.616667  0.112200\n",
       "1098      44.528390      -72.868840  2020  3.840375  0.100989\n",
       "1099      43.608056      -72.982778  2020  7.395844  0.099042\n",
       "\n",
       "[1100 rows x 5 columns]"
      ]
     },
     "execution_count": 3,
     "metadata": {},
     "output_type": "execute_result"
    }
   ],
   "source": [
    "#Loading my data set (except for 2021 data)\n",
    "data = r'/Users/bustergibson/documents/ml/pm25_aod_complete.csv'\n",
    "dataset = pd.read_csv(data)\n",
    "dataset = dataset.loc[:, ~dataset.columns.str.contains('^Unnamed')]\n",
    "dataset = dataset[dataset['YEAR'] < 2021]\n",
    "dataset = dataset[['SITE_LATITUDE','SITE_LONGITUDE','YEAR','PM25','AOD']]\n",
    "dataset"
   ]
  },
  {
   "cell_type": "code",
   "execution_count": 4,
   "id": "c97b6dc7",
   "metadata": {},
   "outputs": [],
   "source": [
    "#Create training and test data sets\n",
    "train_dataset = dataset.sample(frac=0.8, random_state=0)\n",
    "test_dataset = dataset.drop(train_dataset.index)"
   ]
  },
  {
   "cell_type": "code",
   "execution_count": 5,
   "id": "06547115",
   "metadata": {},
   "outputs": [],
   "source": [
    "#Linear Regression\n",
    "train_features = train_dataset.copy()\n",
    "test_features = test_dataset.copy()\n",
    "\n",
    "#We are predicting PM 2.5\n",
    "train_labels = train_features.pop('PM25')\n",
    "test_labels = test_features.pop('PM25')\n"
   ]
  },
  {
   "cell_type": "code",
   "execution_count": 6,
   "id": "ac4b6e01",
   "metadata": {},
   "outputs": [
    {
     "data": {
      "text/html": [
       "<div>\n",
       "<style scoped>\n",
       "    .dataframe tbody tr th:only-of-type {\n",
       "        vertical-align: middle;\n",
       "    }\n",
       "\n",
       "    .dataframe tbody tr th {\n",
       "        vertical-align: top;\n",
       "    }\n",
       "\n",
       "    .dataframe thead th {\n",
       "        text-align: right;\n",
       "    }\n",
       "</style>\n",
       "<table border=\"1\" class=\"dataframe\">\n",
       "  <thead>\n",
       "    <tr style=\"text-align: right;\">\n",
       "      <th></th>\n",
       "      <th>mean</th>\n",
       "      <th>std</th>\n",
       "    </tr>\n",
       "  </thead>\n",
       "  <tbody>\n",
       "    <tr>\n",
       "      <th>SITE_LATITUDE</th>\n",
       "      <td>41.497926</td>\n",
       "      <td>1.336925</td>\n",
       "    </tr>\n",
       "    <tr>\n",
       "      <th>SITE_LONGITUDE</th>\n",
       "      <td>-74.431833</td>\n",
       "      <td>2.864633</td>\n",
       "    </tr>\n",
       "    <tr>\n",
       "      <th>YEAR</th>\n",
       "      <td>2015.003409</td>\n",
       "      <td>3.154171</td>\n",
       "    </tr>\n",
       "    <tr>\n",
       "      <th>PM25</th>\n",
       "      <td>7.825442</td>\n",
       "      <td>2.217769</td>\n",
       "    </tr>\n",
       "    <tr>\n",
       "      <th>AOD</th>\n",
       "      <td>0.133624</td>\n",
       "      <td>0.055491</td>\n",
       "    </tr>\n",
       "  </tbody>\n",
       "</table>\n",
       "</div>"
      ],
      "text/plain": [
       "                       mean       std\n",
       "SITE_LATITUDE     41.497926  1.336925\n",
       "SITE_LONGITUDE   -74.431833  2.864633\n",
       "YEAR            2015.003409  3.154171\n",
       "PM25               7.825442  2.217769\n",
       "AOD                0.133624  0.055491"
      ]
     },
     "execution_count": 6,
     "metadata": {},
     "output_type": "execute_result"
    }
   ],
   "source": [
    "#We need to normalize the data\n",
    "train_dataset.describe().transpose()[['mean', 'std']]"
   ]
  },
  {
   "cell_type": "code",
   "execution_count": 7,
   "id": "85e64d78",
   "metadata": {},
   "outputs": [
    {
     "name": "stderr",
     "output_type": "stream",
     "text": [
      "2022-12-22 13:51:48.677354: I tensorflow/core/platform/cpu_feature_guard.cc:193] This TensorFlow binary is optimized with oneAPI Deep Neural Network Library (oneDNN) to use the following CPU instructions in performance-critical operations:  SSE4.1 SSE4.2\n",
      "To enable them in other operations, rebuild TensorFlow with the appropriate compiler flags.\n"
     ]
    }
   ],
   "source": [
    "#Normalization\n",
    "normalizer = tf.keras.layers.Normalization(axis=-1)\n",
    "normalizer.adapt(np.array(train_features))\n"
   ]
  },
  {
   "cell_type": "code",
   "execution_count": 8,
   "id": "e5a06511",
   "metadata": {},
   "outputs": [],
   "source": [
    "#First we are going to obtain a linear regression model simply testing the ability of AOD to predict to PM 2.5\n",
    "#Ex. \n",
    "# linear_model = tf.keras.Sequential([\n",
    "#     normalizer,\n",
    "#     layers.Dense(units=1)\n",
    "# ])\n",
    "\n",
    "aod = np.array(train_features['AOD'])\n",
    "aod_normalizer = layers.Normalization(input_shape=[1,], axis=None)\n",
    "aod_normalizer.adapt(aod)\n",
    "\n"
   ]
  },
  {
   "cell_type": "code",
   "execution_count": 9,
   "id": "89b4219f",
   "metadata": {},
   "outputs": [
    {
     "name": "stdout",
     "output_type": "stream",
     "text": [
      "Model: \"sequential\"\n",
      "_________________________________________________________________\n",
      " Layer (type)                Output Shape              Param #   \n",
      "=================================================================\n",
      " normalization_1 (Normalizat  (None, 1)                3         \n",
      " ion)                                                            \n",
      "                                                                 \n",
      " dense (Dense)               (None, 1)                 2         \n",
      "                                                                 \n",
      "=================================================================\n",
      "Total params: 5\n",
      "Trainable params: 2\n",
      "Non-trainable params: 3\n",
      "_________________________________________________________________\n"
     ]
    }
   ],
   "source": [
    "aod_model = tf.keras.Sequential([\n",
    "    aod_normalizer,\n",
    "    layers.Dense(units=1)\n",
    "])\n",
    "\n",
    "aod_model.summary()"
   ]
  },
  {
   "cell_type": "code",
   "execution_count": 10,
   "id": "98e23f33",
   "metadata": {},
   "outputs": [],
   "source": [
    "aod_model.compile(\n",
    "    optimizer=tf.keras.optimizers.Adam(learning_rate=0.1),\n",
    "    loss='mean_absolute_error')"
   ]
  },
  {
   "cell_type": "code",
   "execution_count": 11,
   "id": "a0675eba",
   "metadata": {},
   "outputs": [
    {
     "name": "stderr",
     "output_type": "stream",
     "text": [
      "/Users/bustergibson/opt/anaconda3/envs/keras/lib/python3.10/site-packages/keras/engine/data_adapter.py:1699: FutureWarning: The behavior of `series[i:j]` with an integer-dtype index is deprecated. In a future version, this will be treated as *label-based* indexing, consistent with e.g. `series[i]` lookups. To retain the old behavior, use `series.iloc[i:j]`. To get the future behavior, use `series.loc[i:j]`.\n",
      "  return t[start:end]\n"
     ]
    },
    {
     "name": "stdout",
     "output_type": "stream",
     "text": [
      "CPU times: user 2.26 s, sys: 262 ms, total: 2.52 s\n",
      "Wall time: 2.05 s\n"
     ]
    }
   ],
   "source": [
    "%%time\n",
    "history = aod_model.fit(\n",
    "    train_features['AOD'],\n",
    "    train_labels,\n",
    "    epochs=100,\n",
    "    # Suppress logging.\n",
    "    verbose=0,\n",
    "    # Calculate validation results on 20% of the training data.\n",
    "    validation_split = 0.2)"
   ]
  },
  {
   "cell_type": "code",
   "execution_count": 12,
   "id": "386b0f29",
   "metadata": {},
   "outputs": [
    {
     "data": {
      "image/png": "[encoded data removed]",
      "text/plain": [
       "<Figure size 640x480 with 1 Axes>"
      ]
     },
     "metadata": {},
     "output_type": "display_data"
    }
   ],
   "source": [
    "plt.clf()\n",
    "def plot_loss(history):\n",
    "  plt.plot(history.history['loss'], label='loss')\n",
    "  plt.plot(history.history['val_loss'], label='val_loss')\n",
    "  plt.ylim([0, 10])\n",
    "  plt.xlabel('Epoch')\n",
    "  plt.ylabel('Error [AOD]')\n",
    "  plt.legend()\n",
    "  plt.grid(True)\n",
    "\n",
    "plot_loss(history)\n",
    "plt.show()\n"
   ]
  },
  {
   "cell_type": "code",
   "execution_count": 13,
   "id": "0fa3cb9d",
   "metadata": {},
   "outputs": [],
   "source": [
    "#Collect the results on the test set for later\n",
    "test_results = {}\n",
    "\n",
    "test_results['aod_model'] = aod_model.evaluate(\n",
    "    test_features['AOD'],\n",
    "    test_labels, verbose=0)"
   ]
  },
  {
   "cell_type": "code",
   "execution_count": 15,
   "id": "7e878d2b",
   "metadata": {},
   "outputs": [
    {
     "name": "stdout",
     "output_type": "stream",
     "text": [
      "7/7 [==============================] - 0s 487us/step\n"
     ]
    },
    {
     "data": {
      "image/png": "[encoded data removed]",
      "text/plain": [
       "<Figure size 640x480 with 1 Axes>"
      ]
     },
     "metadata": {},
     "output_type": "display_data"
    }
   ],
   "source": [
    "plt.clf()\n",
    "test_predictions = aod_model.predict(test_features['AOD']).flatten()\n",
    "\n",
    "a = plt.axes(aspect='equal')\n",
    "plt.scatter(test_labels, test_predictions)\n",
    "plt.xlabel('True Values [PM25]')\n",
    "plt.ylabel('Predictions [PM25]')\n",
    "lims = [0, 20]\n",
    "plt.xlim(lims)\n",
    "plt.ylim(lims)\n",
    "_ = plt.plot(lims, lims)\n",
    "\n",
    "\n",
    "plt.show()"
   ]
  },
  {
   "cell_type": "code",
   "execution_count": 16,
   "id": "e95d1243",
   "metadata": {},
   "outputs": [
    {
     "data": {
      "text/plain": [
       "1.8898693"
      ]
     },
     "execution_count": 16,
     "metadata": {},
     "output_type": "execute_result"
    }
   ],
   "source": [
    "mae = tf.keras.losses.MeanAbsoluteError()\n",
    "mae(test_labels, test_predictions).numpy()"
   ]
  },
  {
   "cell_type": "code",
   "execution_count": 17,
   "id": "8e9da54d",
   "metadata": {},
   "outputs": [
    {
     "data": {
      "text/plain": [
       "5.7817783"
      ]
     },
     "execution_count": 17,
     "metadata": {},
     "output_type": "execute_result"
    }
   ],
   "source": [
    "mse = tf.keras.losses.MeanSquaredError()\n",
    "mse(test_labels, test_predictions).numpy()"
   ]
  },
  {
   "cell_type": "code",
   "execution_count": null,
   "id": "15f8c197",
   "metadata": {},
   "outputs": [],
   "source": []
  }
 ],
 "metadata": {
  "kernelspec": {
   "display_name": "keras",
   "language": "python",
   "name": "keras"
  },
  "language_info": {
   "codemirror_mode": {
    "name": "ipython",
    "version": 3
   },
   "file_extension": ".py",
   "mimetype": "text/x-python",
   "name": "python",
   "nbconvert_exporter": "python",
   "pygments_lexer": "ipython3",
   "version": "3.10.6"
  }
 },
 "nbformat": 4,
 "nbformat_minor": 5
}
