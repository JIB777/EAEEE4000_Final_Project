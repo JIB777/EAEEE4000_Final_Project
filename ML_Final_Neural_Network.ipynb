{
 "cells": [
  {
   "cell_type": "code",
   "execution_count": 1,
   "id": "3053b92f",
   "metadata": {},
   "outputs": [],
   "source": [
    "#James Gibson\n",
    "#12/03/22\n",
    "#Script is based on https://www.tensorflow.org/tutorials/keras/regression\n",
    "\n",
    "#Error warning about tensorflow\n",
    "\n",
    "#2022-12-03 17:53:16.980823: I tensorflow/core/platform/cpu_feature_guard.cc:193] \n",
    "#This TensorFlow binary is optimized with oneAPI Deep Neural Network Library (oneDNN) to use \n",
    "#the following CPU instructions in performance-critical operations:  SSE4.1 SSE4.2\n",
    "#To enable them in other operations, rebuild TensorFlow with the appropriate compiler flags.\n"
   ]
  },
  {
   "cell_type": "code",
   "execution_count": 2,
   "id": "a3d26415",
   "metadata": {},
   "outputs": [
    {
     "name": "stderr",
     "output_type": "stream",
     "text": [
      "2022-12-05 11:52:40.858144: I tensorflow/core/platform/cpu_feature_guard.cc:193] This TensorFlow binary is optimized with oneAPI Deep Neural Network Library (oneDNN) to use the following CPU instructions in performance-critical operations:  SSE4.1 SSE4.2\n",
      "To enable them in other operations, rebuild TensorFlow with the appropriate compiler flags.\n"
     ]
    }
   ],
   "source": [
    "import tensorflow as tf\n",
    "from tensorflow import keras\n",
    "from tensorflow.keras import layers\n",
    "import pandas as pd\n",
    "import numpy as np\n",
    "import matplotlib.pyplot as plt\n",
    "import os\n",
    "import glob\n",
    "from pathlib import Path\n"
   ]
  },
  {
   "cell_type": "code",
   "execution_count": 3,
   "id": "cc783981",
   "metadata": {},
   "outputs": [
    {
     "data": {
      "text/html": [
       "<div>\n",
       "<style scoped>\n",
       "    .dataframe tbody tr th:only-of-type {\n",
       "        vertical-align: middle;\n",
       "    }\n",
       "\n",
       "    .dataframe tbody tr th {\n",
       "        vertical-align: top;\n",
       "    }\n",
       "\n",
       "    .dataframe thead th {\n",
       "        text-align: right;\n",
       "    }\n",
       "</style>\n",
       "<table border=\"1\" class=\"dataframe\">\n",
       "  <thead>\n",
       "    <tr style=\"text-align: right;\">\n",
       "      <th></th>\n",
       "      <th>SITE_LATITUDE</th>\n",
       "      <th>SITE_LONGITUDE</th>\n",
       "      <th>YEAR</th>\n",
       "      <th>PM25</th>\n",
       "      <th>AOD</th>\n",
       "    </tr>\n",
       "  </thead>\n",
       "  <tbody>\n",
       "    <tr>\n",
       "      <th>0</th>\n",
       "      <td>41.170833</td>\n",
       "      <td>-73.194722</td>\n",
       "      <td>2010</td>\n",
       "      <td>8.747368</td>\n",
       "      <td>0.106736</td>\n",
       "    </tr>\n",
       "    <tr>\n",
       "      <th>1</th>\n",
       "      <td>41.399167</td>\n",
       "      <td>-73.443056</td>\n",
       "      <td>2010</td>\n",
       "      <td>9.161345</td>\n",
       "      <td>0.073683</td>\n",
       "    </tr>\n",
       "    <tr>\n",
       "      <th>2</th>\n",
       "      <td>41.784722</td>\n",
       "      <td>-72.631667</td>\n",
       "      <td>2010</td>\n",
       "      <td>7.658380</td>\n",
       "      <td>0.115273</td>\n",
       "    </tr>\n",
       "    <tr>\n",
       "      <th>3</th>\n",
       "      <td>41.821342</td>\n",
       "      <td>-73.297257</td>\n",
       "      <td>2010</td>\n",
       "      <td>5.436066</td>\n",
       "      <td>0.104100</td>\n",
       "    </tr>\n",
       "    <tr>\n",
       "      <th>4</th>\n",
       "      <td>41.301400</td>\n",
       "      <td>-72.902871</td>\n",
       "      <td>2010</td>\n",
       "      <td>8.927290</td>\n",
       "      <td>0.081273</td>\n",
       "    </tr>\n",
       "    <tr>\n",
       "      <th>...</th>\n",
       "      <td>...</td>\n",
       "      <td>...</td>\n",
       "      <td>...</td>\n",
       "      <td>...</td>\n",
       "      <td>...</td>\n",
       "    </tr>\n",
       "    <tr>\n",
       "      <th>1095</th>\n",
       "      <td>41.874668</td>\n",
       "      <td>-71.379971</td>\n",
       "      <td>2020</td>\n",
       "      <td>8.146875</td>\n",
       "      <td>0.077750</td>\n",
       "    </tr>\n",
       "    <tr>\n",
       "      <th>1096</th>\n",
       "      <td>41.841039</td>\n",
       "      <td>-71.360970</td>\n",
       "      <td>2020</td>\n",
       "      <td>6.500000</td>\n",
       "      <td>0.077750</td>\n",
       "    </tr>\n",
       "    <tr>\n",
       "      <th>1097</th>\n",
       "      <td>42.887590</td>\n",
       "      <td>-73.249840</td>\n",
       "      <td>2020</td>\n",
       "      <td>5.616667</td>\n",
       "      <td>0.112200</td>\n",
       "    </tr>\n",
       "    <tr>\n",
       "      <th>1098</th>\n",
       "      <td>44.528390</td>\n",
       "      <td>-72.868840</td>\n",
       "      <td>2020</td>\n",
       "      <td>3.840375</td>\n",
       "      <td>0.100989</td>\n",
       "    </tr>\n",
       "    <tr>\n",
       "      <th>1099</th>\n",
       "      <td>43.608056</td>\n",
       "      <td>-72.982778</td>\n",
       "      <td>2020</td>\n",
       "      <td>7.395844</td>\n",
       "      <td>0.099042</td>\n",
       "    </tr>\n",
       "  </tbody>\n",
       "</table>\n",
       "<p>1100 rows × 5 columns</p>\n",
       "</div>"
      ],
      "text/plain": [
       "      SITE_LATITUDE  SITE_LONGITUDE  YEAR      PM25       AOD\n",
       "0         41.170833      -73.194722  2010  8.747368  0.106736\n",
       "1         41.399167      -73.443056  2010  9.161345  0.073683\n",
       "2         41.784722      -72.631667  2010  7.658380  0.115273\n",
       "3         41.821342      -73.297257  2010  5.436066  0.104100\n",
       "4         41.301400      -72.902871  2010  8.927290  0.081273\n",
       "...             ...             ...   ...       ...       ...\n",
       "1095      41.874668      -71.379971  2020  8.146875  0.077750\n",
       "1096      41.841039      -71.360970  2020  6.500000  0.077750\n",
       "1097      42.887590      -73.249840  2020  5.616667  0.112200\n",
       "1098      44.528390      -72.868840  2020  3.840375  0.100989\n",
       "1099      43.608056      -72.982778  2020  7.395844  0.099042\n",
       "\n",
       "[1100 rows x 5 columns]"
      ]
     },
     "execution_count": 3,
     "metadata": {},
     "output_type": "execute_result"
    }
   ],
   "source": [
    "#Loading my data set (except for 2021 data)\n",
    "data = r'/Users/bustergibson/documents/ml/pm25_aod_complete.csv'\n",
    "dataset = pd.read_csv(data)\n",
    "dataset = dataset.loc[:, ~dataset.columns.str.contains('^Unnamed')]\n",
    "dataset = dataset[dataset['YEAR'] < 2021]\n",
    "dataset = dataset[['SITE_LATITUDE','SITE_LONGITUDE','YEAR','PM25','AOD']]\n",
    "dataset"
   ]
  },
  {
   "cell_type": "code",
   "execution_count": 4,
   "id": "5c132409",
   "metadata": {},
   "outputs": [],
   "source": [
    "#Create training and test data sets\n",
    "train_dataset = dataset.sample(frac=0.8, random_state=0)\n",
    "test_dataset = dataset.drop(train_dataset.index)"
   ]
  },
  {
   "cell_type": "code",
   "execution_count": 5,
   "id": "0059f58c",
   "metadata": {},
   "outputs": [],
   "source": [
    "#Create copies\n",
    "train_features = train_dataset.copy()\n",
    "test_features = test_dataset.copy()\n",
    "\n",
    "#Remove PM 2.5 because this is the variable we are trying to predict\n",
    "train_labels = train_features.pop('PM25')\n",
    "test_labels = test_features.pop('PM25')\n"
   ]
  },
  {
   "cell_type": "code",
   "execution_count": 6,
   "id": "418dc651",
   "metadata": {},
   "outputs": [
    {
     "name": "stderr",
     "output_type": "stream",
     "text": [
      "2022-12-05 11:52:54.113188: I tensorflow/core/platform/cpu_feature_guard.cc:193] This TensorFlow binary is optimized with oneAPI Deep Neural Network Library (oneDNN) to use the following CPU instructions in performance-critical operations:  SSE4.1 SSE4.2\n",
      "To enable them in other operations, rebuild TensorFlow with the appropriate compiler flags.\n"
     ]
    }
   ],
   "source": [
    "#Normalization\n",
    "normalizer = tf.keras.layers.Normalization(axis=-1)\n",
    "normalizer.adapt(np.array(train_features))\n"
   ]
  },
  {
   "cell_type": "code",
   "execution_count": 7,
   "id": "9c9fef5b",
   "metadata": {},
   "outputs": [],
   "source": [
    "#Three hidden layers\n",
    "def build_and_compile_model(norm):\n",
    "  model = keras.Sequential([\n",
    "      norm,\n",
    "      layers.Dense(64, activation='relu'),\n",
    "      layers.Dense(64, activation='relu'),\n",
    "      layers.Dense(64, activation='relu'),\n",
    "      layers.Dense(1)\n",
    "  ])\n",
    "\n",
    "  model.compile(loss='mean_absolute_error',\n",
    "                optimizer=tf.keras.optimizers.Adam(0.001))\n",
    "  return model"
   ]
  },
  {
   "cell_type": "code",
   "execution_count": 8,
   "id": "e8f3c808",
   "metadata": {},
   "outputs": [
    {
     "name": "stdout",
     "output_type": "stream",
     "text": [
      "Model: \"sequential\"\n",
      "_________________________________________________________________\n",
      " Layer (type)                Output Shape              Param #   \n",
      "=================================================================\n",
      " normalization (Normalizatio  (None, 4)                9         \n",
      " n)                                                              \n",
      "                                                                 \n",
      " dense (Dense)               (None, 64)                320       \n",
      "                                                                 \n",
      " dense_1 (Dense)             (None, 64)                4160      \n",
      "                                                                 \n",
      " dense_2 (Dense)             (None, 64)                4160      \n",
      "                                                                 \n",
      " dense_3 (Dense)             (None, 1)                 65        \n",
      "                                                                 \n",
      "=================================================================\n",
      "Total params: 8,714\n",
      "Trainable params: 8,705\n",
      "Non-trainable params: 9\n",
      "_________________________________________________________________\n"
     ]
    }
   ],
   "source": [
    "#Neural Network\n",
    "#Using YEAR, Latitude, Longitude, and AOD to predict PM 2.5\n",
    "#'SITE_LATITUDE','SITE_LONGITUDE','YEAR','PM25','AOD'\n",
    "dnn_model = build_and_compile_model(normalizer)\n",
    "dnn_model.summary()"
   ]
  },
  {
   "cell_type": "code",
   "execution_count": 9,
   "id": "334bc14a",
   "metadata": {},
   "outputs": [
    {
     "name": "stderr",
     "output_type": "stream",
     "text": [
      "/Users/bustergibson/opt/anaconda3/envs/keras/lib/python3.10/site-packages/keras/engine/data_adapter.py:1699: FutureWarning: The behavior of `series[i:j]` with an integer-dtype index is deprecated. In a future version, this will be treated as *label-based* indexing, consistent with e.g. `series[i]` lookups. To retain the old behavior, use `series.iloc[i:j]`. To get the future behavior, use `series.loc[i:j]`.\n",
      "  return t[start:end]\n"
     ]
    },
    {
     "name": "stdout",
     "output_type": "stream",
     "text": [
      "CPU times: user 3.07 s, sys: 661 ms, total: 3.73 s\n",
      "Wall time: 2.47 s\n"
     ]
    }
   ],
   "source": [
    "%%time\n",
    "history = dnn_model.fit(\n",
    "    train_features,\n",
    "    train_labels,\n",
    "    validation_split=0.2,\n",
    "    verbose=0, epochs=100)"
   ]
  },
  {
   "cell_type": "code",
   "execution_count": 10,
   "id": "bf71fc94",
   "metadata": {},
   "outputs": [
    {
     "data": {
      "image/png": "[encoded data removed]",
      "text/plain": [
       "<Figure size 640x480 with 1 Axes>"
      ]
     },
     "metadata": {},
     "output_type": "display_data"
    }
   ],
   "source": [
    "plt.clf()\n",
    "def plot_loss(history):\n",
    "  plt.plot(history.history['loss'], label='loss')\n",
    "  plt.plot(history.history['val_loss'], label='val_loss')\n",
    "  plt.ylim([0, 10])\n",
    "  plt.xlabel('Epoch')\n",
    "  plt.ylabel('Error [AOD]')\n",
    "  plt.legend()\n",
    "  plt.grid(True)\n",
    "\n",
    "plot_loss(history)\n",
    "plt.show()\n"
   ]
  },
  {
   "cell_type": "code",
   "execution_count": 11,
   "id": "18a82c54",
   "metadata": {},
   "outputs": [
    {
     "name": "stdout",
     "output_type": "stream",
     "text": [
      "7/7 [==============================] - 0s 530us/step\n"
     ]
    },
    {
     "data": {
      "image/png": "[encoded data removed]",
      "text/plain": [
       "<Figure size 640x480 with 1 Axes>"
      ]
     },
     "metadata": {},
     "output_type": "display_data"
    }
   ],
   "source": [
    "plt.clf()\n",
    "test_predictions = dnn_model.predict(test_features).flatten()\n",
    "\n",
    "a = plt.axes(aspect='equal')\n",
    "plt.scatter(test_labels, test_predictions)\n",
    "plt.xlabel('True Values [PM25]')\n",
    "plt.ylabel('Predictions [PM25]')\n",
    "lims = [0, 20]\n",
    "plt.xlim(lims)\n",
    "plt.ylim(lims)\n",
    "_ = plt.plot(lims, lims)\n",
    "\n",
    "\n",
    "plt.show()"
   ]
  },
  {
   "cell_type": "code",
   "execution_count": 12,
   "id": "cfaa85fe",
   "metadata": {},
   "outputs": [
    {
     "name": "stdout",
     "output_type": "stream",
     "text": [
      "7/7 [==============================] - 0s 809us/step\n"
     ]
    },
    {
     "data": {
      "text/plain": [
       "(220,)"
      ]
     },
     "execution_count": 12,
     "metadata": {},
     "output_type": "execute_result"
    }
   ],
   "source": [
    "test_predictions = dnn_model.predict(test_features).flatten()\n",
    "test_predictions.shape"
   ]
  },
  {
   "cell_type": "code",
   "execution_count": 13,
   "id": "3d166057",
   "metadata": {},
   "outputs": [
    {
     "data": {
      "text/plain": [
       "(220,)"
      ]
     },
     "execution_count": 13,
     "metadata": {},
     "output_type": "execute_result"
    }
   ],
   "source": [
    "test_labels.shape"
   ]
  },
  {
   "cell_type": "code",
   "execution_count": 14,
   "id": "88338dc0",
   "metadata": {},
   "outputs": [
    {
     "data": {
      "text/plain": [
       "0.9305184"
      ]
     },
     "execution_count": 14,
     "metadata": {},
     "output_type": "execute_result"
    }
   ],
   "source": [
    "mae = tf.keras.losses.MeanAbsoluteError()\n",
    "mae(test_labels, test_predictions).numpy()"
   ]
  },
  {
   "cell_type": "code",
   "execution_count": 15,
   "id": "8d9d02e9",
   "metadata": {},
   "outputs": [
    {
     "data": {
      "text/plain": [
       "1.4425116"
      ]
     },
     "execution_count": 15,
     "metadata": {},
     "output_type": "execute_result"
    }
   ],
   "source": [
    "mse = tf.keras.losses.MeanSquaredError()\n",
    "mse(test_labels, test_predictions).numpy()"
   ]
  },
  {
   "cell_type": "code",
   "execution_count": 16,
   "id": "13debc2b",
   "metadata": {},
   "outputs": [
    {
     "data": {
      "text/html": [
       "<div>\n",
       "<style scoped>\n",
       "    .dataframe tbody tr th:only-of-type {\n",
       "        vertical-align: middle;\n",
       "    }\n",
       "\n",
       "    .dataframe tbody tr th {\n",
       "        vertical-align: top;\n",
       "    }\n",
       "\n",
       "    .dataframe thead th {\n",
       "        text-align: right;\n",
       "    }\n",
       "</style>\n",
       "<table border=\"1\" class=\"dataframe\">\n",
       "  <thead>\n",
       "    <tr style=\"text-align: right;\">\n",
       "      <th></th>\n",
       "      <th>SITE_LATITUDE</th>\n",
       "      <th>SITE_LONGITUDE</th>\n",
       "      <th>YEAR</th>\n",
       "      <th>PM25</th>\n",
       "      <th>AOD</th>\n",
       "    </tr>\n",
       "  </thead>\n",
       "  <tbody>\n",
       "    <tr>\n",
       "      <th>1100</th>\n",
       "      <td>41.170833</td>\n",
       "      <td>-73.194722</td>\n",
       "      <td>2021</td>\n",
       "      <td>8.133412</td>\n",
       "      <td>0.110507</td>\n",
       "    </tr>\n",
       "    <tr>\n",
       "      <th>1101</th>\n",
       "      <td>41.399167</td>\n",
       "      <td>-73.443056</td>\n",
       "      <td>2021</td>\n",
       "      <td>7.969359</td>\n",
       "      <td>0.128051</td>\n",
       "    </tr>\n",
       "    <tr>\n",
       "      <th>1102</th>\n",
       "      <td>41.784722</td>\n",
       "      <td>-72.631667</td>\n",
       "      <td>2021</td>\n",
       "      <td>8.001950</td>\n",
       "      <td>0.151212</td>\n",
       "    </tr>\n",
       "    <tr>\n",
       "      <th>1103</th>\n",
       "      <td>41.821342</td>\n",
       "      <td>-73.297257</td>\n",
       "      <td>2021</td>\n",
       "      <td>5.620872</td>\n",
       "      <td>0.212200</td>\n",
       "    </tr>\n",
       "    <tr>\n",
       "      <th>1104</th>\n",
       "      <td>41.301400</td>\n",
       "      <td>-72.902871</td>\n",
       "      <td>2021</td>\n",
       "      <td>7.798128</td>\n",
       "      <td>0.139341</td>\n",
       "    </tr>\n",
       "    <tr>\n",
       "      <th>...</th>\n",
       "      <td>...</td>\n",
       "      <td>...</td>\n",
       "      <td>...</td>\n",
       "      <td>...</td>\n",
       "      <td>...</td>\n",
       "    </tr>\n",
       "    <tr>\n",
       "      <th>1195</th>\n",
       "      <td>41.874668</td>\n",
       "      <td>-71.379971</td>\n",
       "      <td>2021</td>\n",
       "      <td>9.533728</td>\n",
       "      <td>0.128818</td>\n",
       "    </tr>\n",
       "    <tr>\n",
       "      <th>1196</th>\n",
       "      <td>41.841039</td>\n",
       "      <td>-71.360970</td>\n",
       "      <td>2021</td>\n",
       "      <td>7.125214</td>\n",
       "      <td>0.128818</td>\n",
       "    </tr>\n",
       "    <tr>\n",
       "      <th>1197</th>\n",
       "      <td>42.887590</td>\n",
       "      <td>-73.249840</td>\n",
       "      <td>2021</td>\n",
       "      <td>6.109695</td>\n",
       "      <td>0.125900</td>\n",
       "    </tr>\n",
       "    <tr>\n",
       "      <th>1198</th>\n",
       "      <td>44.528390</td>\n",
       "      <td>-72.868840</td>\n",
       "      <td>2021</td>\n",
       "      <td>4.380475</td>\n",
       "      <td>0.087533</td>\n",
       "    </tr>\n",
       "    <tr>\n",
       "      <th>1199</th>\n",
       "      <td>43.608056</td>\n",
       "      <td>-72.982778</td>\n",
       "      <td>2021</td>\n",
       "      <td>7.608333</td>\n",
       "      <td>0.119092</td>\n",
       "    </tr>\n",
       "  </tbody>\n",
       "</table>\n",
       "<p>100 rows × 5 columns</p>\n",
       "</div>"
      ],
      "text/plain": [
       "      SITE_LATITUDE  SITE_LONGITUDE  YEAR      PM25       AOD\n",
       "1100      41.170833      -73.194722  2021  8.133412  0.110507\n",
       "1101      41.399167      -73.443056  2021  7.969359  0.128051\n",
       "1102      41.784722      -72.631667  2021  8.001950  0.151212\n",
       "1103      41.821342      -73.297257  2021  5.620872  0.212200\n",
       "1104      41.301400      -72.902871  2021  7.798128  0.139341\n",
       "...             ...             ...   ...       ...       ...\n",
       "1195      41.874668      -71.379971  2021  9.533728  0.128818\n",
       "1196      41.841039      -71.360970  2021  7.125214  0.128818\n",
       "1197      42.887590      -73.249840  2021  6.109695  0.125900\n",
       "1198      44.528390      -72.868840  2021  4.380475  0.087533\n",
       "1199      43.608056      -72.982778  2021  7.608333  0.119092\n",
       "\n",
       "[100 rows x 5 columns]"
      ]
     },
     "execution_count": 16,
     "metadata": {},
     "output_type": "execute_result"
    }
   ],
   "source": [
    "#Get 2021 Data\n",
    "data = r'/Users/bustergibson/documents/ml/pm25_aod_complete.csv'\n",
    "dataset = pd.read_csv(data)\n",
    "dataset = dataset.loc[:, ~dataset.columns.str.contains('^Unnamed')]\n",
    "dataset = dataset[dataset['YEAR'] == 2021]\n",
    "dataset_2021 = dataset[['SITE_LATITUDE','SITE_LONGITUDE','YEAR','PM25','AOD']]\n",
    "dataset_2021"
   ]
  },
  {
   "cell_type": "code",
   "execution_count": 17,
   "id": "6a989f66",
   "metadata": {},
   "outputs": [],
   "source": [
    "#Create copies\n",
    "\n",
    "features_2021 = dataset_2021.copy()\n",
    "\n",
    "#Remove PM 2.5 because this is the variable we are trying to predict\n",
    "\n",
    "labels_2021 = features_2021.pop('PM25')\n",
    "\n",
    "\n"
   ]
  },
  {
   "cell_type": "code",
   "execution_count": 18,
   "id": "dd5c14b8",
   "metadata": {},
   "outputs": [
    {
     "name": "stdout",
     "output_type": "stream",
     "text": [
      "4/4 [==============================] - 0s 1ms/step\n"
     ]
    },
    {
     "data": {
      "image/png": "[encoded data removed]",
      "text/plain": [
       "<Figure size 640x480 with 1 Axes>"
      ]
     },
     "metadata": {},
     "output_type": "display_data"
    }
   ],
   "source": [
    "plt.clf()\n",
    "predictions_2021 = dnn_model.predict(features_2021).flatten()\n",
    "\n",
    "a = plt.axes(aspect='equal')\n",
    "plt.scatter(labels_2021, predictions_2021)\n",
    "plt.xlabel('True Values [PM25]')\n",
    "plt.ylabel('Predictions [PM25]')\n",
    "plt.title('2021 PM 2.5 Estimates (DNN)')\n",
    "lims = [0, 20]\n",
    "plt.xlim(lims)\n",
    "plt.ylim(lims)\n",
    "_ = plt.plot(lims, lims)\n",
    "\n",
    "\n",
    "plt.show()"
   ]
  },
  {
   "cell_type": "code",
   "execution_count": 19,
   "id": "f92238be",
   "metadata": {},
   "outputs": [
    {
     "data": {
      "text/plain": [
       "1.0558397"
      ]
     },
     "execution_count": 19,
     "metadata": {},
     "output_type": "execute_result"
    }
   ],
   "source": [
    "mae = tf.keras.losses.MeanAbsoluteError()\n",
    "mae(labels_2021, predictions_2021).numpy()"
   ]
  },
  {
   "cell_type": "code",
   "execution_count": 20,
   "id": "2febbe7f",
   "metadata": {},
   "outputs": [
    {
     "data": {
      "text/plain": [
       "1.713192"
      ]
     },
     "execution_count": 20,
     "metadata": {},
     "output_type": "execute_result"
    }
   ],
   "source": [
    "mse = tf.keras.losses.MeanSquaredError()\n",
    "mse(labels_2021, predictions_2021).numpy()"
   ]
  },
  {
   "cell_type": "code",
   "execution_count": null,
   "id": "e8541091",
   "metadata": {},
   "outputs": [],
   "source": []
  }
 ],
 "metadata": {
  "kernelspec": {
   "display_name": "keras",
   "language": "python",
   "name": "keras"
  },
  "language_info": {
   "codemirror_mode": {
    "name": "ipython",
    "version": 3
   },
   "file_extension": ".py",
   "mimetype": "text/x-python",
   "name": "python",
   "nbconvert_exporter": "python",
   "pygments_lexer": "ipython3",
   "version": "3.10.6"
  }
 },
 "nbformat": 4,
 "nbformat_minor": 5
}
